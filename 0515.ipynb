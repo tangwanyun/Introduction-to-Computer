{
  "nbformat": 4,
  "nbformat_minor": 0,
  "metadata": {
    "colab": {
      "provenance": [],
      "authorship_tag": "ABX9TyPDZ8c1L+/z4Xcdt1lF5JSb",
      "include_colab_link": true
    },
    "kernelspec": {
      "name": "python3",
      "display_name": "Python 3"
    },
    "language_info": {
      "name": "python"
    }
  },
  "cells": [
    {
      "cell_type": "markdown",
      "metadata": {
        "id": "view-in-github",
        "colab_type": "text"
      },
      "source": [
        "<a href=\"https://colab.research.google.com/github/tangwanyun/Introduction-to-Computer/blob/main/0515.ipynb\" target=\"_parent\"><img src=\"https://colab.research.google.com/assets/colab-badge.svg\" alt=\"Open In Colab\"/></a>"
      ]
    },
    {
      "cell_type": "code",
      "execution_count": 1,
      "metadata": {
        "colab": {
          "base_uri": "https://localhost:8080/"
        },
        "id": "guMUD7Kv2v81",
        "outputId": "5555f17d-2a22-4669-c163-e03c007a62e3"
      },
      "outputs": [
        {
          "output_type": "stream",
          "name": "stdout",
          "text": [
            "0515\n"
          ]
        }
      ],
      "source": [
        "print(\"0515\")"
      ]
    },
    {
      "cell_type": "code",
      "source": [
        "rain = input(\"今天會下雨嗎\")\n",
        "if(rain == \"Y\" or rain == \"y\"):\n",
        "  print('出門記得帶傘')\n",
        "elif(rain == \"N\" or rain == \"n\"):\n",
        "  print('出門不用帶傘')\n",
        "else:\n",
        "  print('請重新輸入')"
      ],
      "metadata": {
        "colab": {
          "base_uri": "https://localhost:8080/"
        },
        "id": "yIWQ5r3c214q",
        "outputId": "44d2513b-21e4-4769-8d2f-36ad1c4b8203"
      },
      "execution_count": 2,
      "outputs": [
        {
          "output_type": "stream",
          "name": "stdout",
          "text": [
            "今天會下雨嗎N\n",
            "出門不用帶傘\n"
          ]
        }
      ]
    },
    {
      "cell_type": "code",
      "source": [
        "TW = float(input(\"請輸入您的體溫\"))\n",
        "if TW >= 37.5 :\n",
        "  print('體溫過高!')\n",
        "elif TW >= 37 :\n",
        "  print('體溫略高!')\n",
        "elif TW >= 34 :\n",
        "  print('體溫正常!')\n",
        "else:\n",
        "  print('體溫異常，請重新測量!')"
      ],
      "metadata": {
        "colab": {
          "base_uri": "https://localhost:8080/"
        },
        "id": "VlPTNcLQ2_Uq",
        "outputId": "3f0aa1d5-401f-4aaa-8553-1e0a98cbc90b"
      },
      "execution_count": 3,
      "outputs": [
        {
          "output_type": "stream",
          "name": "stdout",
          "text": [
            "請輸入您的體溫37.4\n",
            "體溫略高!\n"
          ]
        }
      ]
    },
    {
      "cell_type": "code",
      "source": [
        "score = int(input(\"請輸入你的 成績\"))\n",
        "if score >= 90 :\n",
        "  print('A')\n",
        "elif score >= 80 :\n",
        "  print('B')\n",
        "elif score >= 70 :\n",
        "  print('C')\n",
        "elif score >= 60 :\n",
        "  print('D')  \n",
        "else:\n",
        "  print('E')"
      ],
      "metadata": {
        "colab": {
          "base_uri": "https://localhost:8080/"
        },
        "id": "37FyqCBS3H46",
        "outputId": "22310804-8f75-4a82-a2a9-4875c1b9eeee"
      },
      "execution_count": 4,
      "outputs": [
        {
          "output_type": "stream",
          "name": "stdout",
          "text": [
            "請輸入你的 成績50\n",
            "E\n"
          ]
        }
      ]
    },
    {
      "cell_type": "code",
      "source": [
        "season = int(input(\"請輸入月份\"))\n",
        "if (season == 3 or season == 4 or season == 5) :\n",
        "  print(season , '月是春天!')\n",
        "elif (season == 6 or season == 7 or season == 8) :\n",
        "  print(season , '月夏天!')\n",
        "elif (season == 9 or season == 10 or season == 11) :\n",
        "  print(season , '月是秋天!')\n",
        "elif (season == 12 or season == 1 or season == 2) :\n",
        "  print(season , '月是冬天!')\n",
        "else:\n",
        "  print('月份不在範圍內!')"
      ],
      "metadata": {
        "colab": {
          "base_uri": "https://localhost:8080/"
        },
        "id": "reV8OdTR3NUJ",
        "outputId": "2af0ff00-241a-4df1-ee53-f872c0e1c780"
      },
      "execution_count": 5,
      "outputs": [
        {
          "output_type": "stream",
          "name": "stdout",
          "text": [
            "請輸入月份8\n",
            "8 月夏天!\n"
          ]
        }
      ]
    },
    {
      "cell_type": "code",
      "source": [
        "x = int(input(\"請輸入今年收入淨額\"))\n",
        "if x >= 2000000 :\n",
        "  print(\"付稅金額:\", x * 0.3 ,\"元\")\n",
        "elif x >= 1000000 :\n",
        "  print(\"付稅金額:\", x * 0.21 ,\"元\")\n",
        "elif x >= 600000 :\n",
        "  print(\"付稅金額:\", x * 0.13 ,\"元\")\n",
        "elif x >=300000 :\n",
        "  print(\"付稅金額:\", x * 0.06 ,\"元\")\n",
        "else:\n",
        "  print('付稅金額: 0 元')\n",
        "     "
      ],
      "metadata": {
        "colab": {
          "base_uri": "https://localhost:8080/"
        },
        "id": "dCVGXSgQ3RrZ",
        "outputId": "cff5d26e-6060-43ff-ab20-b920f64b02ac"
      },
      "execution_count": 6,
      "outputs": [
        {
          "output_type": "stream",
          "name": "stdout",
          "text": [
            "請輸入今年收入淨額10000\n",
            "付稅金額: 0 元\n"
          ]
        }
      ]
    }
  ]
}